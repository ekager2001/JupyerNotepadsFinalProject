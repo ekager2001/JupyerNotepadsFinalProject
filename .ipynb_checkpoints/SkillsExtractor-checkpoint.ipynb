{
 "cells": [
  {
   "cell_type": "code",
   "execution_count": 19,
   "id": "b5670195",
   "metadata": {},
   "outputs": [],
   "source": [
    "#nltk\n",
    "from spacy import displacy\n",
    "import spacy\n",
    "import re\n",
    "import nltk\n",
    "from nltk.corpus import stopwords\n",
    "from nltk.stem import WordNetLemmatizer\n",
    "#nltk.download(['stopwords','wordnet'])\n",
    "\n",
    "#warning\n",
    "import warnings \n",
    "warnings.filterwarnings('ignore')\n",
    "\n",
    "class SkillsExtractor:\n",
    "    def __init__(self, skill_pattern_path):\n",
    "        self.skill_pattern_path = skill_pattern_path\n",
    "        self.nlp = \"\"\n",
    "        self.colors = {\n",
    "        \"SKILL\": \"linear-gradient(90deg, #9BE15D, #00E3AE)\",\n",
    "        \"SOFT-SKILL\": \"linear-gradient(20deg, #FFAFBD, #FFC3A0)\"\n",
    "        }\n",
    "        self.options = {\n",
    "            \"ents\": [\n",
    "                \"SKILL\",\n",
    "                \"SOFT-SKILL\"\n",
    "            ],\n",
    "            \"colors\": self.colors\n",
    "        }\n",
    "\n",
    "    def setNLP(self, nlp):\n",
    "        self.nlp = nlp \n",
    "\n",
    "    def getNLP(self):\n",
    "        return self.nlp \n",
    "        \n",
    "    def start(self, nlp=None):\n",
    "        if nlp == None:\n",
    "            nlp = spacy.load(\"en_core_web_sm\")\n",
    "        else:\n",
    "        self.setNLP(nlp)\n",
    "        ruler = self.getNLP().add_pipe(\"entity_ruler\") \n",
    "        ruler.from_disk(self.skill_pattern_path) \n",
    "        self.setNLP(nlp)\n",
    "        \n",
    "    #Getters from spacy resume tool not my original code!\n",
    "    def get_skills(self, text):\n",
    "        nlp = self.getNLP()\n",
    "        doc = nlp(text)\n",
    "        myset = []\n",
    "        subset = []\n",
    "        for ent in doc.ents:\n",
    "            if ent.label_ == \"SKILL\":\n",
    "                subset.append(ent.text)\n",
    "        myset.append(subset)\n",
    "        return subset\n",
    "\n",
    "    def get_soft_skills(self, text):\n",
    "        nlp = self.getNLP()\n",
    "        doc = nlp(text)\n",
    "        myset = []\n",
    "        subset = []\n",
    "        for ent in doc.ents:\n",
    "            if ent.label_ == \"SOFT-SKILL\":\n",
    "                subset.append(ent.text)\n",
    "        myset.append(subset)\n",
    "        return subset\n",
    "\n",
    "    def unique_skills(x):\n",
    "        return list(set(x))\n",
    "\n",
    "    def display(self, text): \n",
    "        nlp = self.getNLP()\n",
    "        docx = nlp(text)\n",
    "        html = displacy.render(docx, style='ent', options=self.options)\n",
    "        return html"
   ]
  },
  {
   "cell_type": "code",
   "execution_count": 20,
   "id": "5786f3b1",
   "metadata": {},
   "outputs": [],
   "source": [
    "skill_pattern_path = \"jz_skill_patterns.jsonl\"\n",
    "SE = SkillsExtractor(skill_pattern_path)\n",
    "nlp = spacy.load(\"model-last\")\n",
    "SE.start(nlp)"
   ]
  },
  {
   "cell_type": "code",
   "execution_count": 24,
   "id": "74584b45",
   "metadata": {},
   "outputs": [
    {
     "name": "stdout",
     "output_type": "stream",
     "text": [
      "EDGAR KAGER  2 St Etheldreda's Drv,  Hatfield, Hertfordshire AL10    8BZ        07938799369  PROFESSIONAL SUMMARY    TwilightStruggle1991@outloo k.com  An aspiring cyber-security professional and, currently top 3% on try-   hack me from regular studying of network security/fundamentals,  web-hacking, and malware analysis. I love reading books on all  SKILLS  things cyber-security related, from network structure, to secure code  development. On the pathway to complete the CISSIP and become  Penetration testing  •  an associate of (ISC)2.  Vulnerability analysis  •  Ethical hacking  •  Python Programming  WORK HISTORY  •  C Programming  •  Java Programming  Cyber Security Student, 07/2021 - 08/2021   •  Linux operating system  Attended government-sponsored summer Academy during which  •  Fundamentals  included programming, a group project, pen-testing theory, and  Problem Solving   practice.  •  Cryptography   SEO analyst, 10/2018  •  Networking Structure and  •  Pi Datametrics  Exploitation  Gave precise and insightful analysis on SEO trends for companies  Web Technologies fundamentals  •  looking to grow their organic search reach.  Threat intelligence  •  IT Desk Support, 03/2016   Project management   •  University of Hertfordshire  Teamworking and Communication  •  Acquired interpersonal skills helping university clients solve serious    problems they encountered using university software and  equipment.  EDUCATION  Master of Science, Computer Science, Expected in 06/2023   Queen Mary University of London - London, ENG   Relevant Coursework Completed:   Studied and analysed network structure and fundamentals of  •  web technologies.   Completed numerous group projects requiring team-coordination  •  and the software-engineering methodology   A-Levels, 07/2019   Stanborough School - Welwyn Garden City, Hertfordshire  Achieved the following grades:  Mathematics   Further Mathematics   Physics   Chemistry      \n"
     ]
    }
   ],
   "source": [
    "Resume = input()"
   ]
  },
  {
   "cell_type": "code",
   "execution_count": 25,
   "id": "39345a12",
   "metadata": {},
   "outputs": [
    {
     "name": "stdout",
     "output_type": "stream",
     "text": [
      "['security', 'network security', 'security', 'testing', 'Python', 'C', 'Java', 'Security', 'Linux', 'operating system', 'testing', 'Cryptography', 'Support', 'Project management', 'software', 'Computer Science', 'software', 'engineering']\n",
      "['Problem Solving', 'Communication', 'interpersonal skills']\n"
     ]
    }
   ],
   "source": [
    "skills = SE.get_skills(Resume)\n",
    "print(skills)\n",
    "skills = SE.get_soft_skills(Resume)\n",
    "print(skills)"
   ]
  },
  {
   "cell_type": "code",
   "execution_count": 23,
   "id": "646dd980",
   "metadata": {},
   "outputs": [
    {
     "data": {
      "text/html": [
       "<span class=\"tex2jax_ignore\"><div class=\"entities\" style=\"line-height: 2.5; direction: ltr\">WORK HISTORY  •  \n",
       "<mark class=\"entity\" style=\"background: linear-gradient(90deg, #9BE15D, #00E3AE); padding: 0.45em 0.6em; margin: 0 0.25em; line-height: 1; border-radius: 0.35em;\">\n",
       "    C\n",
       "    <span style=\"font-size: 0.8em; font-weight: bold; line-height: 1; border-radius: 0.35em; vertical-align: middle; margin-left: 0.5rem\">SKILL</span>\n",
       "</mark>\n",
       " Programming  •  \n",
       "<mark class=\"entity\" style=\"background: linear-gradient(90deg, #9BE15D, #00E3AE); padding: 0.45em 0.6em; margin: 0 0.25em; line-height: 1; border-radius: 0.35em;\">\n",
       "    Java\n",
       "    <span style=\"font-size: 0.8em; font-weight: bold; line-height: 1; border-radius: 0.35em; vertical-align: middle; margin-left: 0.5rem\">SKILL</span>\n",
       "</mark>\n",
       " Programming  Cyber \n",
       "<mark class=\"entity\" style=\"background: linear-gradient(90deg, #9BE15D, #00E3AE); padding: 0.45em 0.6em; margin: 0 0.25em; line-height: 1; border-radius: 0.35em;\">\n",
       "    Security\n",
       "    <span style=\"font-size: 0.8em; font-weight: bold; line-height: 1; border-radius: 0.35em; vertical-align: middle; margin-left: 0.5rem\">SKILL</span>\n",
       "</mark>\n",
       " Student, 07/2021 - 08/2021   •  \n",
       "<mark class=\"entity\" style=\"background: linear-gradient(90deg, #9BE15D, #00E3AE); padding: 0.45em 0.6em; margin: 0 0.25em; line-height: 1; border-radius: 0.35em;\">\n",
       "    Linux\n",
       "    <span style=\"font-size: 0.8em; font-weight: bold; line-height: 1; border-radius: 0.35em; vertical-align: middle; margin-left: 0.5rem\">SKILL</span>\n",
       "</mark>\n",
       " \n",
       "<mark class=\"entity\" style=\"background: linear-gradient(90deg, #9BE15D, #00E3AE); padding: 0.45em 0.6em; margin: 0 0.25em; line-height: 1; border-radius: 0.35em;\">\n",
       "    operating system\n",
       "    <span style=\"font-size: 0.8em; font-weight: bold; line-height: 1; border-radius: 0.35em; vertical-align: middle; margin-left: 0.5rem\">SKILL</span>\n",
       "</mark>\n",
       "  Attended government-sponsored summer Academy during which  •  Fundamentals  included programming, a group project, pen-\n",
       "<mark class=\"entity\" style=\"background: linear-gradient(90deg, #9BE15D, #00E3AE); padding: 0.45em 0.6em; margin: 0 0.25em; line-height: 1; border-radius: 0.35em;\">\n",
       "    testing\n",
       "    <span style=\"font-size: 0.8em; font-weight: bold; line-height: 1; border-radius: 0.35em; vertical-align: middle; margin-left: 0.5rem\">SKILL</span>\n",
       "</mark>\n",
       " theory, and  \n",
       "<mark class=\"entity\" style=\"background: linear-gradient(20deg, #FFAFBD, #FFC3A0); padding: 0.45em 0.6em; margin: 0 0.25em; line-height: 1; border-radius: 0.35em;\">\n",
       "    Problem Solving\n",
       "    <span style=\"font-size: 0.8em; font-weight: bold; line-height: 1; border-radius: 0.35em; vertical-align: middle; margin-left: 0.5rem\">SOFT-SKILL</span>\n",
       "</mark>\n",
       "   practice.  •  \n",
       "<mark class=\"entity\" style=\"background: linear-gradient(90deg, #9BE15D, #00E3AE); padding: 0.45em 0.6em; margin: 0 0.25em; line-height: 1; border-radius: 0.35em;\">\n",
       "    Cryptography\n",
       "    <span style=\"font-size: 0.8em; font-weight: bold; line-height: 1; border-radius: 0.35em; vertical-align: middle; margin-left: 0.5rem\">SKILL</span>\n",
       "</mark>\n",
       "   SEO analyst, 10/2018  •  Networking Structure and  •  Pi Datametrics  Exploitation  Gave precise and insightful analysis on SEO trends for companies  Web Technologies fundamentals  •  looking to grow their organic search reach.  Threat intelligence  •  IT Desk \n",
       "<mark class=\"entity\" style=\"background: linear-gradient(90deg, #9BE15D, #00E3AE); padding: 0.45em 0.6em; margin: 0 0.25em; line-height: 1; border-radius: 0.35em;\">\n",
       "    Support\n",
       "    <span style=\"font-size: 0.8em; font-weight: bold; line-height: 1; border-radius: 0.35em; vertical-align: middle; margin-left: 0.5rem\">SKILL</span>\n",
       "</mark>\n",
       ", 03/2016   \n",
       "<mark class=\"entity\" style=\"background: linear-gradient(90deg, #9BE15D, #00E3AE); padding: 0.45em 0.6em; margin: 0 0.25em; line-height: 1; border-radius: 0.35em;\">\n",
       "    Project management\n",
       "    <span style=\"font-size: 0.8em; font-weight: bold; line-height: 1; border-radius: 0.35em; vertical-align: middle; margin-left: 0.5rem\">SKILL</span>\n",
       "</mark>\n",
       "   •  University of Hertfordshire  Teamworking and \n",
       "<mark class=\"entity\" style=\"background: linear-gradient(20deg, #FFAFBD, #FFC3A0); padding: 0.45em 0.6em; margin: 0 0.25em; line-height: 1; border-radius: 0.35em;\">\n",
       "    Communication\n",
       "    <span style=\"font-size: 0.8em; font-weight: bold; line-height: 1; border-radius: 0.35em; vertical-align: middle; margin-left: 0.5rem\">SOFT-SKILL</span>\n",
       "</mark>\n",
       "  •  Acquired \n",
       "<mark class=\"entity\" style=\"background: linear-gradient(20deg, #FFAFBD, #FFC3A0); padding: 0.45em 0.6em; margin: 0 0.25em; line-height: 1; border-radius: 0.35em;\">\n",
       "    interpersonal skills\n",
       "    <span style=\"font-size: 0.8em; font-weight: bold; line-height: 1; border-radius: 0.35em; vertical-align: middle; margin-left: 0.5rem\">SOFT-SKILL</span>\n",
       "</mark>\n",
       " helping university clients solve serious    problems they encountered using university \n",
       "<mark class=\"entity\" style=\"background: linear-gradient(90deg, #9BE15D, #00E3AE); padding: 0.45em 0.6em; margin: 0 0.25em; line-height: 1; border-radius: 0.35em;\">\n",
       "    software\n",
       "    <span style=\"font-size: 0.8em; font-weight: bold; line-height: 1; border-radius: 0.35em; vertical-align: middle; margin-left: 0.5rem\">SKILL</span>\n",
       "</mark>\n",
       " and  equipment.  EDUCATION  Master of Science, \n",
       "<mark class=\"entity\" style=\"background: linear-gradient(90deg, #9BE15D, #00E3AE); padding: 0.45em 0.6em; margin: 0 0.25em; line-height: 1; border-radius: 0.35em;\">\n",
       "    Computer Science\n",
       "    <span style=\"font-size: 0.8em; font-weight: bold; line-height: 1; border-radius: 0.35em; vertical-align: middle; margin-left: 0.5rem\">SKILL</span>\n",
       "</mark>\n",
       ", Expected in 06/2023   Queen Mary University of London - London, ENG   Relevant Coursework Completed:   Studied and analysed network structure and fundamentals of  •  web technologies.   Completed numerous group projects requiring team-coordination  •  and the \n",
       "<mark class=\"entity\" style=\"background: linear-gradient(90deg, #9BE15D, #00E3AE); padding: 0.45em 0.6em; margin: 0 0.25em; line-height: 1; border-radius: 0.35em;\">\n",
       "    software\n",
       "    <span style=\"font-size: 0.8em; font-weight: bold; line-height: 1; border-radius: 0.35em; vertical-align: middle; margin-left: 0.5rem\">SKILL</span>\n",
       "</mark>\n",
       "-\n",
       "<mark class=\"entity\" style=\"background: linear-gradient(90deg, #9BE15D, #00E3AE); padding: 0.45em 0.6em; margin: 0 0.25em; line-height: 1; border-radius: 0.35em;\">\n",
       "    engineering\n",
       "    <span style=\"font-size: 0.8em; font-weight: bold; line-height: 1; border-radius: 0.35em; vertical-align: middle; margin-left: 0.5rem\">SKILL</span>\n",
       "</mark>\n",
       " methodology   A-Levels, 07/2019   Stanborough School - Welwyn Garden City, Hertfordshire  Achieved the following grades:  Mathematics   Further Mathematics   Physics   Chemistry    </div></span>"
      ],
      "text/plain": [
       "<IPython.core.display.HTML object>"
      ]
     },
     "metadata": {},
     "output_type": "display_data"
    }
   ],
   "source": [
    "SE.display(Resume)"
   ]
  },
  {
   "cell_type": "code",
   "execution_count": null,
   "id": "588acbd8",
   "metadata": {},
   "outputs": [],
   "source": []
  }
 ],
 "metadata": {
  "kernelspec": {
   "display_name": "Python 3 (ipykernel)",
   "language": "python",
   "name": "python3"
  },
  "language_info": {
   "codemirror_mode": {
    "name": "ipython",
    "version": 3
   },
   "file_extension": ".py",
   "mimetype": "text/x-python",
   "name": "python",
   "nbconvert_exporter": "python",
   "pygments_lexer": "ipython3",
   "version": "3.9.7"
  }
 },
 "nbformat": 4,
 "nbformat_minor": 5
}
