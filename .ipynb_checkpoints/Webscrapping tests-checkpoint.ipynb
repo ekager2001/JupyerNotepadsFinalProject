{
 "cells": [
  {
   "cell_type": "code",
   "execution_count": 1,
   "id": "45d3619e",
   "metadata": {},
   "outputs": [],
   "source": [
    "#IMPORTS\n",
    "import csv\n",
    "from datetime import datetime as dt\n",
    "import requests\n",
    "from bs4 import BeautifulSoup"
   ]
  },
  {
   "cell_type": "code",
   "execution_count": 289,
   "id": "25d9dcdd",
   "metadata": {},
   "outputs": [],
   "source": [
    "#Url catchers\n",
    "def get_url(position, location):\n",
    "    template = 'https://uk.indeed.com/jobs?q={}&l={}'\n",
    "    url = template.format(position, location)\n",
    "    return url\n",
    "\n",
    "def get_jobURL(url, jobID):\n",
    "    template = 'https://www.indeed.com/viewjob?viewtype=embedded&jk={}'\n",
    "    url = template.format(jobID)\n",
    "    return url"
   ]
  },
  {
   "cell_type": "code",
   "execution_count": 290,
   "id": "7c172d3c",
   "metadata": {},
   "outputs": [
    {
     "name": "stdout",
     "output_type": "stream",
     "text": [
      "Data Scientist\n"
     ]
    }
   ],
   "source": [
    "position = input()\n",
    "url = get_url(position, 'London')"
   ]
  },
  {
   "cell_type": "code",
   "execution_count": 291,
   "id": "d559bac5",
   "metadata": {},
   "outputs": [
    {
     "name": "stdout",
     "output_type": "stream",
     "text": [
      "https://uk.indeed.com/jobs?q=Data Scientist&l=London\n"
     ]
    }
   ],
   "source": [
    "print(url)"
   ]
  },
  {
   "cell_type": "code",
   "execution_count": 292,
   "id": "c57249ea",
   "metadata": {},
   "outputs": [],
   "source": [
    "response = requests.get(url)"
   ]
  },
  {
   "cell_type": "code",
   "execution_count": 293,
   "id": "0108a906",
   "metadata": {},
   "outputs": [
    {
     "data": {
      "text/plain": [
       "<Response [200]>"
      ]
     },
     "execution_count": 293,
     "metadata": {},
     "output_type": "execute_result"
    }
   ],
   "source": [
    "response"
   ]
  },
  {
   "cell_type": "code",
   "execution_count": 294,
   "id": "ec81344c",
   "metadata": {},
   "outputs": [
    {
     "data": {
      "text/plain": [
       "''"
      ]
     },
     "execution_count": 294,
     "metadata": {},
     "output_type": "execute_result"
    }
   ],
   "source": [
    "response.reason"
   ]
  },
  {
   "cell_type": "code",
   "execution_count": 300,
   "id": "6fda4a52",
   "metadata": {},
   "outputs": [],
   "source": [
    "soup = BeautifulSoup(response.text, 'html.parser')\n",
    "cards = soup.find_all('div', 'job_seen_beacon')"
   ]
  },
  {
   "cell_type": "code",
   "execution_count": 368,
   "id": "a31057f5",
   "metadata": {},
   "outputs": [
    {
     "name": "stdout",
     "output_type": "stream",
     "text": [
      "<div class=\"job_seen_beacon\"><table cellpadding=\"0\" cellspacing=\"0\" class=\"jobCard_mainContent\" role=\"presentation\"><tbody><tr><td class=\"resultContent\"><div class=\"heading4 color-text-primary singleLineTitle tapItem-gutter\"><h2 class=\"jobTitle jobTitle-color-purple\"><span title=\"Data Scientist (Football)\">Data Scientist (Football)</span></h2></div><div class=\"heading6 company_location tapItem-gutter companyInfo\"><span class=\"companyName\">Pythia Sports</span><div class=\"companyLocation\">Temporarily Remote in London</div></div><div class=\"heading6 error-text tapItem-gutter\"></div></td></tr></tbody></table><table class=\"jobCardShelfContainer\" role=\"presentation\"><tbody><tr class=\"jobCardShelf\"><td class=\"shelfItem indeedApply\"><span class=\"iaIcon\"></span><span class=\"ialbl iaTextBlack\">Easily apply to this job</span></td><td class=\"shelfItem responsiveEmployer\"><div><span class=\"responsiveEmployerIcon\"></span>Responsive employer</div></td></tr><tr class=\"underShelfFooter\"><td><div class=\"heading6 tapItem-gutter result-footer\"><div class=\"job-snippet\"><ul style=\"list-style-type:circle;margin-top: 0px;margin-bottom: 0px;padding-left:20px;\">\n",
      "<li style=\"margin-bottom:0px;\">Have a deep understanding of the <b>data</b>, its limitations and meaning, including the investigation of <b>data</b> validity.</li>\n",
      "<li>Research and apply novel modelling techniques.</li>\n",
      "</ul></div><span class=\"date\"><span class=\"visually-hidden\">Employer</span>Active 7 days ago</span></div></td></tr></tbody></table><div aria-live=\"polite\"></div></div>\n"
     ]
    }
   ],
   "source": [
    "len(cards)\n",
    "print(cards[1])"
   ]
  },
  {
   "cell_type": "code",
   "execution_count": 358,
   "id": "93ff7ddd",
   "metadata": {},
   "outputs": [],
   "source": [
    "indexNum=10\n",
    "card = cards[indexNum]"
   ]
  },
  {
   "cell_type": "code",
   "execution_count": 360,
   "id": "a8512727",
   "metadata": {},
   "outputs": [],
   "source": [
    "#Get Job Title (for later)\n",
    "def jobTitle(card):\n",
    "    h2 = card.h2\n",
    "    spans = h2.findAll('span')\n",
    "    for s in spans:\n",
    "        if('title' in str(s)):\n",
    "            jobTitle = s\n",
    "    return jobTitle\n",
    "\n",
    "#Get Job Company\n",
    "def company(card):  \n",
    "    spans = card.findAll('span')\n",
    "    for s in spans:\n",
    "        if('companyName' in str(s)):\n",
    "            companyName = s\n",
    "        print(s)\n",
    "    return companyName\n",
    "    #hi"
   ]
  },
  {
   "cell_type": "code",
   "execution_count": 361,
   "id": "2c149166",
   "metadata": {},
   "outputs": [
    {
     "name": "stdout",
     "output_type": "stream",
     "text": [
      "<span class=\"label\">new</span>\n",
      "<span title=\"Data Scientist, Climate\">Data Scientist, Climate</span>\n",
      "<span class=\"companyName\"><a class=\"turnstileLink companyOverviewLink\" data-tn-element=\"companyName\" href=\"/cmp/Natwest-Group\" rel=\"noopener\" target=\"_blank\">NatWest Group</a></span>\n",
      "<span class=\"ratingsDisplay withRatingLink\"><a class=\"ratingLink\" data-tn-variant=\"cmplinktst2\" href=\"/cmp/Natwest-Group/reviews\" rel=\"noopener\" target=\"_blank\" title=\"NatWest Group reviews\"><span aria-label=\"3.3 of stars rating\" class=\"ratingNumber\" role=\"img\"><span aria-hidden=\"true\">3.3</span><svg aria-hidden=\"true\" class=\"starIcon\" fill=\"none\" height=\"12\" role=\"presentation\" viewbox=\"0 0 16 16\" width=\"12\" xmlns=\"http://www.w3.org/2000/svg\"><path d=\"M8 12.8709L12.4542 15.5593C12.7807 15.7563 13.1835 15.4636 13.0968 15.0922L11.9148 10.0254L15.8505 6.61581C16.1388 6.36608 15.9847 5.89257 15.6047 5.86033L10.423 5.42072L8.39696 0.640342C8.24839 0.289808 7.7516 0.289808 7.60303 0.640341L5.57696 5.42072L0.395297 5.86033C0.015274 5.89257 -0.13882 6.36608 0.149443 6.61581L4.0852 10.0254L2.90318 15.0922C2.81653 15.4636 3.21932 15.7563 3.54584 15.5593L8 12.8709Z\" fill=\"#767676\"></path></svg></span></a></span>\n",
      "<span aria-label=\"3.3 of stars rating\" class=\"ratingNumber\" role=\"img\"><span aria-hidden=\"true\">3.3</span><svg aria-hidden=\"true\" class=\"starIcon\" fill=\"none\" height=\"12\" role=\"presentation\" viewbox=\"0 0 16 16\" width=\"12\" xmlns=\"http://www.w3.org/2000/svg\"><path d=\"M8 12.8709L12.4542 15.5593C12.7807 15.7563 13.1835 15.4636 13.0968 15.0922L11.9148 10.0254L15.8505 6.61581C16.1388 6.36608 15.9847 5.89257 15.6047 5.86033L10.423 5.42072L8.39696 0.640342C8.24839 0.289808 7.7516 0.289808 7.60303 0.640341L5.57696 5.42072L0.395297 5.86033C0.015274 5.89257 -0.13882 6.36608 0.149443 6.61581L4.0852 10.0254L2.90318 15.0922C2.81653 15.4636 3.21932 15.7563 3.54584 15.5593L8 12.8709Z\" fill=\"#767676\"></path></svg></span>\n",
      "<span aria-hidden=\"true\">3.3</span>\n",
      "<span>£37,500 a year</span>\n",
      "<span class=\"date\"><span class=\"visually-hidden\">Posted</span>5 days ago</span>\n",
      "<span class=\"visually-hidden\">Posted</span>\n",
      "<span class=\"result-link-bar-separator\">·</span>\n",
      "<span class=\"mat\">View all <a href=\"/Natwest-Group-jobs\">NatWest Group jobs</a> - <a href=\"/jobs-in-London\">London jobs</a></span>\n",
      "<span class=\"mat\">Salary Search: <a href=\"/career/data-scientist/salaries/London?campaignid=serp-more&amp;fromjk=ea5d78b68c959100&amp;from=serp-more\">Data Scientist, Climate salaries in London</a></span>\n",
      "<span class=\"mat\">See popular <a href=\"/cmp/Natwest-Group/faq\">questions &amp; answers about NatWest Group</a></span>\n",
      "<span title=\"Data Scientist, Climate\">Data Scientist, Climate</span>\n",
      "<span class=\"companyName\"><a class=\"turnstileLink companyOverviewLink\" data-tn-element=\"companyName\" href=\"/cmp/Natwest-Group\" rel=\"noopener\" target=\"_blank\">NatWest Group</a></span>\n"
     ]
    }
   ],
   "source": [
    "title = jobTitle(card)\n",
    "company = company(card)\n",
    "print(title)\n",
    "print(company)"
   ]
  },
  {
   "cell_type": "code",
   "execution_count": 362,
   "id": "ab7a3002",
   "metadata": {},
   "outputs": [
    {
     "name": "stdout",
     "output_type": "stream",
     "text": [
      " Data Scientist, Climate \n",
      "  NatWest Group  \n"
     ]
    }
   ],
   "source": [
    "print(cleanhtml(title))\n",
    "print(cleanhtml(company))"
   ]
  },
  {
   "cell_type": "code",
   "execution_count": 381,
   "id": "a307d8f0",
   "metadata": {},
   "outputs": [
    {
     "name": "stdout",
     "output_type": "stream",
     "text": [
      "c76744d7d93db86a\n",
      "f11971796d62ded9\n",
      "77717c890ae3270e\n",
      "ef08a95195a32388\n",
      "4a6c7bfab3b219bf\n",
      "3bbcc463a7de1edd\n",
      "473f890826f34db8\n",
      "40e08c99ec8a9673\n",
      "012ab29072fb1c78\n",
      "1227143add4ccb0f\n",
      "ea5d78b68c959100\n",
      "53bcff75f8d3a77d\n",
      "aa41df2aa77b8cb3\n",
      "50c814964f5bc47d\n",
      "e04d71c1a5b9b157\n",
      "['c76744d7d93db86a', 'f11971796d62ded9', '77717c890ae3270e', 'ef08a95195a32388', '4a6c7bfab3b219bf', '3bbcc463a7de1edd', '473f890826f34db8', '40e08c99ec8a9673', '012ab29072fb1c78', '1227143add4ccb0f', 'ea5d78b68c959100', '53bcff75f8d3a77d', 'aa41df2aa77b8cb3', '50c814964f5bc47d', 'e04d71c1a5b9b157']\n"
     ]
    }
   ],
   "source": [
    "#Get Job links (to full description)\n",
    "import re\n",
    "def links(mosaic):\n",
    "    mosaicsAnchors = [] \n",
    "    ids = []\n",
    "    pattern = 'result job_\\w+'\n",
    "    tempMosaicsAnchors = soup.findAll('a')\n",
    "    for a in tempMosaicsAnchors:\n",
    "        if(\"tapItem fs-unmask result\" in str(a)):\n",
    "            mosaicsAnchors.append(a)\n",
    "    for m in mosaicsAnchors:\n",
    "        result = re.findall(pattern, str(m))\n",
    "        job = result[0].split(' ')[1]\n",
    "        jobID = job.split('_')[1]\n",
    "        ids.append(jobID)\n",
    "    return ids\n",
    "mosaic = soup.find('div', {\"id\" : \"mosaic-provider-jobcards\"})\n",
    "mosaicsAnchors = links(mosaic)\n",
    "print(mosaicsAnchors)"
   ]
  },
  {
   "cell_type": "code",
   "execution_count": 371,
   "id": "e9ada4f1",
   "metadata": {},
   "outputs": [
    {
     "name": "stdout",
     "output_type": "stream",
     "text": [
      "['result job_ea5d78b68c959100']\n",
      "ea5d78b68c959100\n"
     ]
    }
   ],
   "source": [
    "#Extract job ID\n",
    "import re\n",
    "pattern = 'result job_\\w+'\n",
    "result = re.findall(pattern, str(mosaicsAnchors[indexNum]))\n",
    "print(result)\n",
    "job = result[0].split(' ')[1]\n",
    "jobID = job.split('_')[1]\n",
    "print(jobID)"
   ]
  },
  {
   "cell_type": "code",
   "execution_count": 365,
   "id": "5bea23b7",
   "metadata": {},
   "outputs": [
    {
     "name": "stdout",
     "output_type": "stream",
     "text": [
      "https://www.indeed.com/viewjob?viewtype=embedded&jk=ea5d78b68c959100\n"
     ]
    }
   ],
   "source": [
    "#Job embed URL\n",
    "jobURL = get_jobURL(url, jobID)\n",
    "print(jobURL)\n",
    "jobResponse = requests.get(jobURL)\n",
    "jobSoup = BeautifulSoup(jobResponse.text, 'html.parser')"
   ]
  },
  {
   "cell_type": "code",
   "execution_count": 366,
   "id": "dfd8131e",
   "metadata": {},
   "outputs": [
    {
     "name": "stdout",
     "output_type": "stream",
     "text": [
      "   Our people work differently depending on their jobs and needs. From home working to job sharing, visit the remote and flexible working page on our website to find out more. \n",
      " This role is based in the United Kingdom and as such all normal working days must be carried out in the United Kingdom. \n",
      "   Join us as a Data Scientist, Climate     \n",
      "Working as part of a growing team, you'll be vital to helping the bank make climate first business decisions, qualifying the environmental impact of our lending and guiding customers to reduce their carbon footprint in an economically sustainable manner.  \n",
      "We’ll look to you to identify and work with data sets from across the bank’s data estate to solve difficult, non-routine analysis problems and apply advanced analytical methods  \n",
      "Participating in the data community, you’ll identify and deliver opportunities to support the bank’s strategic direction through the better use of data  \n",
      "It's a chance to develop your skills and bring an innovative and passionate approach to data science to benefit our business      \n",
      "What you'll do     \n",
      "As a Data Scientist in the Climate team, you’ll be evaluating and improving business processes and products using scientific rigour and statistical methods with a focus on how our business and our customers affect the world around us. You’ll be supporting and collaborating with multidisciplinary teams of data engineers and analysts on a wide range of business problems, understanding customer interactions with the bank and how we manage credit risk.    \n",
      "You’ll also be:     \n",
      "Developing your knowledge of data structures and metrics, advocating for changes for product development where needed  \n",
      "Conducting analysis, including gathering data and specifying requirements in collaboration with business stakeholders  \n",
      "Iteratively building and prototyping data analysis pipelines to provide insights that will ultimately lead to production deployment  \n",
      "Working with other colleagues across our functions to make business recommendations and presenting your findings to stakeholders  \n",
      "Identifying new methods, tools, techniques and opportunities to deliver business value by reducing costs, generating income or improving the customer experience through applying data science      \n",
      "The skills you'll need     \n",
      "To succeed in this role, you’ll hold a degree in a quantitative discipline or have equivalent practical experience in a data analysis related field. You’ll also be able to demonstrate your experience with statistical software, database languages, big data technologies and cloud environments. Experience with handling climate data is advantageous, but not required. We're building a team who first and foremost believe in the mission of reducing environmental impact.    \n",
      "Additionally, you’ll bring:     \n",
      "Experience of using Python skills will be essential, whilst knowledge or experience of AWS, SQL Tableau and PySpark would be useful too  \n",
      "Experience of working as part of a multidisciplinary team  \n",
      "The ability to articulate and translate business questions and use statistical techniques to resolve data analysis problems  \n",
      "Knowledge of statistical data analysis such as linear models, multivariate analysis, stochastic models and sampling methods  \n",
      "Experience with machine learning on large datasets and in deploying machine learning models into a production environment  \n",
      "Excellent written and verbal communication skills     \n",
      "Starting salary of £37,500 plus 10% pension funding   \n",
      " If you need any adjustments to support your application, such as information in alternative formats or special requirements to access our buildings, or if you’re eligible under the Disability Confident Scheme please contact us and we’ll do everything we can to help.     \n",
      "<div class=\"jobsearch-jobDescriptionText\" id=\"jobDescriptionText\"><div><p>Our people work differently depending on their jobs and needs. From home working to job sharing, visit the remote and flexible working page on our website to find out more.</p>\n",
      "<p>This role is based in the United Kingdom and as such all normal working days must be carried out in the United Kingdom.</p>\n",
      "<p></p><p>Join us as a Data Scientist, Climate</p><p></p><ul><li>\n",
      "Working as part of a growing team, you'll be vital to helping the bank make climate first business decisions, qualifying the environmental impact of our lending and guiding customers to reduce their carbon footprint in an economically sustainable manner.</li><li>\n",
      "We’ll look to you to identify and work with data sets from across the bank’s data estate to solve difficult, non-routine analysis problems and apply advanced analytical methods</li><li>\n",
      "Participating in the data community, you’ll identify and deliver opportunities to support the bank’s strategic direction through the better use of data</li><li>\n",
      "It's a chance to develop your skills and bring an innovative and passionate approach to data science to benefit our business</li></ul><p></p><h2 class=\"jobSectionHeader\"><b>\n",
      "What you'll do</b></h2><p></p><p>\n",
      "As a Data Scientist in the Climate team, you’ll be evaluating and improving business processes and products using scientific rigour and statistical methods with a focus on how our business and our customers affect the world around us. You’ll be supporting and collaborating with multidisciplinary teams of data engineers and analysts on a wide range of business problems, understanding customer interactions with the bank and how we manage credit risk.</p><p></p><p>\n",
      "You’ll also be:</p><p></p><ul><li>\n",
      "Developing your knowledge of data structures and metrics, advocating for changes for product development where needed</li><li>\n",
      "Conducting analysis, including gathering data and specifying requirements in collaboration with business stakeholders</li><li>\n",
      "Iteratively building and prototyping data analysis pipelines to provide insights that will ultimately lead to production deployment</li><li>\n",
      "Working with other colleagues across our functions to make business recommendations and presenting your findings to stakeholders</li><li>\n",
      "Identifying new methods, tools, techniques and opportunities to deliver business value by reducing costs, generating income or improving the customer experience through applying data science</li></ul><p></p><h2 class=\"jobSectionHeader\"><b>\n",
      "The skills you'll need</b></h2><p></p><p>\n",
      "To succeed in this role, you’ll hold a degree in a quantitative discipline or have equivalent practical experience in a data analysis related field. You’ll also be able to demonstrate your experience with statistical software, database languages, big data technologies and cloud environments. Experience with handling climate data is advantageous, but not required. We're building a team who first and foremost believe in the mission of reducing environmental impact.</p><p></p><p>\n",
      "Additionally, you’ll bring:</p><p></p><ul><li>\n",
      "Experience of using Python skills will be essential, whilst knowledge or experience of AWS, SQL Tableau and PySpark would be useful too</li><li>\n",
      "Experience of working as part of a multidisciplinary team</li><li>\n",
      "The ability to articulate and translate business questions and use statistical techniques to resolve data analysis problems</li><li>\n",
      "Knowledge of statistical data analysis such as linear models, multivariate analysis, stochastic models and sampling methods</li><li>\n",
      "Experience with machine learning on large datasets and in deploying machine learning models into a production environment</li><li>\n",
      "Excellent written and verbal communication skills</li></ul><p></p><p>\n",
      "Starting salary of £37,500 plus 10% pension funding</p><p></p>\n",
      "<p>If you need any adjustments to support your application, such as information in alternative formats or special requirements to access our buildings, or if you’re eligible under the Disability Confident Scheme please contact us and we’ll do everything we can to help.</p></div><div></div></div>\n"
     ]
    }
   ],
   "source": [
    "#get job description\n",
    "def jobDescription(jobSoup):\n",
    "    return jobSoup.find('div', 'jobsearch-jobDescriptionText')\n",
    "jobDesc = jobDescription(jobSoup)\n",
    "\n",
    "cleaned =  re.compile('<.*?>')\n",
    "def cleanhtml(raw_html):\n",
    "    cleantext = re.sub(cleaned, ' ' , str(raw_html))\n",
    "    return cleantext \n",
    "clean = cleanhtml(jobDesc)\n",
    "print(clean)\n",
    "\n",
    "print(jobDesc)"
   ]
  },
  {
   "cell_type": "code",
   "execution_count": null,
   "id": "6608f697",
   "metadata": {},
   "outputs": [],
   "source": []
  }
 ],
 "metadata": {
  "kernelspec": {
   "display_name": "Python 3 (ipykernel)",
   "language": "python",
   "name": "python3"
  },
  "language_info": {
   "codemirror_mode": {
    "name": "ipython",
    "version": 3
   },
   "file_extension": ".py",
   "mimetype": "text/x-python",
   "name": "python",
   "nbconvert_exporter": "python",
   "pygments_lexer": "ipython3",
   "version": "3.9.7"
  }
 },
 "nbformat": 4,
 "nbformat_minor": 5
}
