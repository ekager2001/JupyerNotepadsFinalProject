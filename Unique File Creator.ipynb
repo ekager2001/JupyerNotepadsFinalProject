{
 "cells": [
  {
   "cell_type": "code",
   "execution_count": 1,
   "id": "697a6b61",
   "metadata": {},
   "outputs": [],
   "source": [
    "import uuid\n",
    "unique_filename = str(uuid.uuid4())"
   ]
  },
  {
   "cell_type": "code",
   "execution_count": 2,
   "id": "631edd80",
   "metadata": {},
   "outputs": [
    {
     "data": {
      "text/plain": [
       "'02854a9c-73a5-4e04-87df-0a1d6ac0de1b'"
      ]
     },
     "execution_count": 2,
     "metadata": {},
     "output_type": "execute_result"
    }
   ],
   "source": [
    "unique_filename"
   ]
  },
  {
   "cell_type": "code",
   "execution_count": 20,
   "id": "9bcf4741",
   "metadata": {},
   "outputs": [],
   "source": [
    "searchQ = (\"Data Scientist\",\"London\")\n",
    "string = \"You searched for Job: {} \\nLocation: {}\"\n",
    "string = string.format(searchQ[0],searchQ[1])"
   ]
  },
  {
   "cell_type": "code",
   "execution_count": 21,
   "id": "3b859a08",
   "metadata": {},
   "outputs": [],
   "source": [
    "f = open(unique_filename+'.txt', \"w\")\n",
    "f.write(string)\n",
    "f.close()"
   ]
  },
  {
   "cell_type": "code",
   "execution_count": null,
   "id": "5dd870e6",
   "metadata": {},
   "outputs": [],
   "source": []
  }
 ],
 "metadata": {
  "kernelspec": {
   "display_name": "Python 3 (ipykernel)",
   "language": "python",
   "name": "python3"
  },
  "language_info": {
   "codemirror_mode": {
    "name": "ipython",
    "version": 3
   },
   "file_extension": ".py",
   "mimetype": "text/x-python",
   "name": "python",
   "nbconvert_exporter": "python",
   "pygments_lexer": "ipython3",
   "version": "3.9.7"
  }
 },
 "nbformat": 4,
 "nbformat_minor": 5
}
