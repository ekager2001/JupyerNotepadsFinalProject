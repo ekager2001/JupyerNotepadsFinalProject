{
 "cells": [
  {
   "cell_type": "code",
   "execution_count": 1,
   "id": "697a6b61",
   "metadata": {},
   "outputs": [],
   "source": [
    "import uuid\n",
    "unique = str(uuid.uuid4())"
   ]
  },
  {
   "cell_type": "code",
   "execution_count": 3,
   "id": "631edd80",
   "metadata": {},
   "outputs": [
    {
     "data": {
      "text/plain": [
       "'e3fdd1ce-8e51-415b-bac6-e361876608c9'"
      ]
     },
     "execution_count": 3,
     "metadata": {},
     "output_type": "execute_result"
    }
   ],
   "source": [
    "unique"
   ]
  },
  {
   "cell_type": "code",
   "execution_count": 4,
   "id": "9bcf4741",
   "metadata": {},
   "outputs": [],
   "source": [
    "searchQ = (\"Data Scientist\",\"London\")\n",
    "string = \"You searched for Job: {} \\nLocation: {}\"\n",
    "string = string.format(searchQ[0],searchQ[1])"
   ]
  },
  {
   "cell_type": "code",
   "execution_count": 5,
   "id": "3b859a08",
   "metadata": {},
   "outputs": [],
   "source": [
    "f = open(unique+'.txt', \"w\")\n",
    "f.write(string)\n",
    "f.close()"
   ]
  },
  {
   "cell_type": "code",
   "execution_count": null,
   "id": "5dd870e6",
   "metadata": {},
   "outputs": [],
   "source": []
  }
 ],
 "metadata": {
  "kernelspec": {
   "display_name": "Python 3 (ipykernel)",
   "language": "python",
   "name": "python3"
  },
  "language_info": {
   "codemirror_mode": {
    "name": "ipython",
    "version": 3
   },
   "file_extension": ".py",
   "mimetype": "text/x-python",
   "name": "python",
   "nbconvert_exporter": "python",
   "pygments_lexer": "ipython3",
   "version": "3.9.7"
  }
 },
 "nbformat": 4,
 "nbformat_minor": 5
}
