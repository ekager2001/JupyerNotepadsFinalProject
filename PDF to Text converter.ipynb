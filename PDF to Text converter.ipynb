{
 "cells": [
  {
   "cell_type": "markdown",
   "id": "3587c19f",
   "metadata": {},
   "source": [
    "# Test for PDF handling class"
   ]
  },
  {
   "cell_type": "code",
   "execution_count": 7,
   "id": "5cd4f673",
   "metadata": {},
   "outputs": [],
   "source": [
    "import pdfplumber\n",
    "class PDFconverter:\n",
    "    def __init__(self):\n",
    "        self.PATH =\"\"\n",
    "    \n",
    "    def setPATH(self, PATH):\n",
    "        self.PATH = PATH\n",
    "\n",
    "    def extract(self, PATH, words=False):\n",
    "        self.setPATH(PATH)\n",
    "        with pdfplumber.open(PATH) as pdf:\n",
    "            pages = self.pdfToText(pdf)\n",
    "            if(words):     \n",
    "                words = self.extractWords(pages)\n",
    "                return pages\n",
    "            text = self.extractText(pages)\n",
    "            return text\n",
    "\n",
    "    def pdfToText(self, pdf):   \n",
    "        pages = pdf.pages\n",
    "        return pages\n",
    "\n",
    "    def extractWords(self, pages):\n",
    "        extractedWords = []\n",
    "        for p in pages:\n",
    "            pageWords = p.extract_words(x_tolerance=2, y_tolerance=3, keep_blank_chars=False, use_text_flow=False, horizontal_ltr=True, vertical_ttb=True)\n",
    "            for w in pageWords:\n",
    "                extractedWords.append(w['text'])\n",
    "        return extractedWords\n",
    "\n",
    "    def extractText(self, pages):\n",
    "        text = \"\"\n",
    "        for p in pages:\n",
    "            extractedText = p.extract_text(x_tolerance=2, y_tolerance=3, keep_blank_chars=False, use_text_flow=False, horizontal_ltr=True, vertical_ttb=True)\n",
    "            text = text + extractedText\n",
    "        return text"
   ]
  },
  {
   "cell_type": "code",
   "execution_count": 8,
   "id": "fa227264",
   "metadata": {},
   "outputs": []
  },
  {
   "cell_type": "code",
   "execution_count": 6,
   "id": "8dc8715c",
   "metadata": {},
   "outputs": [],
   "source": [
    "f = open(\"Edgar_Kager_cv.txt\", \"w\")\n",
    "f.write(PDFc.extract(\"Edgar_Kager_cv.pdf\"))\n",
    "f.close()"
   ]
  },
  {
   "cell_type": "code",
   "execution_count": null,
   "id": "21875b31",
   "metadata": {},
   "outputs": [],
   "source": []
  }
 ],
 "metadata": {
  "kernelspec": {
   "display_name": "Python 3 (ipykernel)",
   "language": "python",
   "name": "python3"
  },
  "language_info": {
   "codemirror_mode": {
    "name": "ipython",
    "version": 3
   },
   "file_extension": ".py",
   "mimetype": "text/x-python",
   "name": "python",
   "nbconvert_exporter": "python",
   "pygments_lexer": "ipython3",
   "version": "3.9.7"
  }
 },
 "nbformat": 4,
 "nbformat_minor": 5
}
