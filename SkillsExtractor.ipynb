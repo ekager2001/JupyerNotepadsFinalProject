{
 "cells": [
  {
   "cell_type": "code",
   "execution_count": 1,
   "id": "b5670195",
   "metadata": {},
   "outputs": [],
   "source": [
    "#nltk\n",
    "from spacy import displacy\n",
    "import spacy\n",
    "import re\n",
    "import nltk\n",
    "from nltk.corpus import stopwords\n",
    "from nltk.stem import WordNetLemmatizer\n",
    "\n",
    "#Adapted from Abid Ali Awan\n",
    "#https://deepnote.com/@abid/spaCy-Resume-Analysis-81ba1e4b-7fa8-45fe-ac7a-0b7bf3da7826\n",
    "#warning\n",
    "import warnings \n",
    "warnings.filterwarnings('ignore')\n",
    "\n",
    "class SkillsExtractor:\n",
    "    def __init__(self, skill_pattern_path):\n",
    "        self.skill_pattern_path = skill_pattern_path\n",
    "        self.nlp = \"\"\n",
    "        self.colors = {\n",
    "        \"SKILL\": \"linear-gradient(90deg, #9BE15D, #00E3AE)\",\n",
    "        \"SOFT-SKILL\": \"linear-gradient(20deg, #FFAFBD, #FFC3A0)\"\n",
    "        }\n",
    "        self.options = {\n",
    "            \"ents\": [\n",
    "                \"SKILL\",\n",
    "                \"SOFT-SKILL\" #ORIGINAL ADDITION \n",
    "            ],\n",
    "            \"colors\": self.colors\n",
    "        }\n",
    "\n",
    "    def setNLP(self, nlp):#ORIGINAL ADDITION \n",
    "        self.nlp = nlp #ORIGINAL ADDITION \n",
    "\n",
    "    def getNLP(self):#ORIGINAL ADDITION \n",
    "        return self.nlp #ORIGINAL ADDITION \n",
    "        \n",
    "    def start(self, nlp=None):\n",
    "        if nlp == None:\n",
    "            nlp = spacy.load(\"en_core_web_sm\")\n",
    "        else:#ORIGINAL ADDITION \n",
    "            self.setNLP(nlp)\n",
    "        ruler = self.getNLP().add_pipe(\"entity_ruler\") \n",
    "        ruler.from_disk(self.skill_pattern_path) \n",
    "        self.setNLP(nlp)#ORIGINAL ADDITION \n",
    "        \n",
    "    #Getters from spacy resume tool not my original code!\n",
    "    def get_skills(self, text):\n",
    "        nlp = self.getNLP()#ORIGINAL ADDITION \n",
    "        doc = nlp(text)\n",
    "        myset = []\n",
    "        subset = []\n",
    "        for ent in doc.ents:\n",
    "            if ent.label_ == \"SKILL\":\n",
    "                subset.append(ent.text)\n",
    "        myset.append(subset)\n",
    "        return subset\n",
    "\n",
    "    def get_soft_skills(self, text):\n",
    "        nlp = self.getNLP()#ORIGINAL ADDITION \n",
    "        doc = nlp(text)\n",
    "        myset = []\n",
    "        subset = []\n",
    "        for ent in doc.ents:\n",
    "            if ent.label_ == \"SOFT-SKILL\":#ORIGINAL ADDITION \n",
    "                subset.append(ent.text)#ORIGINAL ADDITION \n",
    "        myset.append(subset)\n",
    "        return subset\n",
    "\n",
    "    def unique_skills(self, x):\n",
    "        return list(set(x))\n",
    "\n",
    "    def display(self, text): \n",
    "        nlp = self.getNLP()#ORIGINAL ADDITION \n",
    "        docx = nlp(text)\n",
    "        html = displacy.render(docx, style='ent', options=self.options)\n",
    "        return html"
   ]
  },
  {
   "cell_type": "markdown",
   "id": "d6f6c350",
   "metadata": {},
   "source": [
    "# Copy model-last from the Flask Demo"
   ]
  },
  {
   "cell_type": "code",
   "execution_count": 228,
   "id": "5786f3b1",
   "metadata": {},
   "outputs": [],
   "source": [
    "skill_pattern_path = \"data/jz_skill_patternsV3.jsonl\"\n",
    "SE = SkillsExtractor(skill_pattern_path)\n",
    "nlp = spacy.load(\"model-last\")\n",
    "#nlp = spacy.load(\"en_core_web_sm\")\n",
    "SE.start(nlp)"
   ]
  },
  {
   "cell_type": "markdown",
   "id": "68a68245",
   "metadata": {},
   "source": [
    "# Import train or test annoted data\n",
    "Swap between train annoted data \n",
    "or testing annoted data"
   ]
  },
  {
   "cell_type": "code",
   "execution_count": 220,
   "id": "e24ec205",
   "metadata": {},
   "outputs": [],
   "source": [
    "import json\n",
    "#f = open('data/train.jsonl')\n",
    "f = open('data/test.jsonl')\n",
    "array = []\n",
    "for entity in f:\n",
    "   array.append( (json.loads(entity)['data'] , json.loads(entity)['label']) )"
   ]
  },
  {
   "cell_type": "code",
   "execution_count": 221,
   "id": "5993734d",
   "metadata": {},
   "outputs": [],
   "source": [
    "testData = []\n",
    "for data, label in array:\n",
    "    skills = []\n",
    "    for e in label:\n",
    "        skills.append(data[e[0]:e[1]])\n",
    "    testData.append(skills)"
   ]
  },
  {
   "cell_type": "code",
   "execution_count": 242,
   "id": "b1c0b684",
   "metadata": {},
   "outputs": [
    {
     "name": "stdout",
     "output_type": "stream",
     "text": [
      "34\n"
     ]
    }
   ],
   "source": [
    "index = (int)(input()) # up to 167 for train data, and 35 for test data"
   ]
  },
  {
   "cell_type": "code",
   "execution_count": 243,
   "id": "39345a12",
   "metadata": {},
   "outputs": [
    {
     "name": "stdout",
     "output_type": "stream",
     "text": [
      "['accountability', 'lead', 'manages multiple tasks', 'written and verbal communication', 'organized', 'problem solving', 'management', 'coordinated', 'timely', 'work well within a team', 'organization', 'interacts easily with people of diverse backgrounds', 'organizational and time management skills', 'organizational', 'customer service', 'public relations skills', 'interpersonal relations', 'communication', 'solid']\n"
     ]
    }
   ],
   "source": [
    "resume = array[index][0]\n",
    "skills = SE.unique_skills(SE.get_skills(resume.lower()))\n",
    "softSkills = SE.unique_skills(SE.get_soft_skills(resume.lower()))\n",
    "print(softSkills)"
   ]
  },
  {
   "cell_type": "code",
   "execution_count": 244,
   "id": "816b673c",
   "metadata": {},
   "outputs": [],
   "source": [
    "def score(PredictedSkills, Actualskills):\n",
    "    score = 0\n",
    "    length = len(Actualskills)\n",
    "    matched = []\n",
    "    for skill in PredictedSkills:\n",
    "        if skill in Actualskills:\n",
    "            matched.append(skill)\n",
    "            score += 1\n",
    "    skillsNotMet = list(set(Actualskills) - set(matched)) \n",
    "    return (score, length, skillsNotMet)"
   ]
  },
  {
   "cell_type": "code",
   "execution_count": 245,
   "id": "2afdab5e",
   "metadata": {},
   "outputs": [
    {
     "data": {
      "text/plain": [
       "(9,\n",
       " 12,\n",
       " ['strong interpersonal relations', 'written and verbal communication skills'])"
      ]
     },
     "execution_count": 245,
     "metadata": {},
     "output_type": "execute_result"
    }
   ],
   "source": [
    "score(softSkills, testData[index])"
   ]
  },
  {
   "cell_type": "code",
   "execution_count": 229,
   "id": "59527c4c",
   "metadata": {},
   "outputs": [
    {
     "name": "stdout",
     "output_type": "stream",
     "text": [
      "(4, 4, [])\n",
      "(2, 2, [])\n",
      "(7, 7, [])\n",
      "(7, 8, ['good working relations'])\n",
      "(2, 2, [])\n",
      "(1, 1, [])\n",
      "(3, 3, [])\n",
      "(1, 1, [])\n",
      "(5, 6, ['written and spoken english'])\n",
      "(3, 4, ['active listening'])\n",
      "(4, 4, [])\n",
      "(0, 0, [])\n",
      "(14, 17, ['ability to articulate your ideas', 'research data'])\n",
      "(0, 0, [])\n",
      "(4, 5, ['communicate'])\n",
      "(5, 7, ['problem solving', 'customer service skills'])\n",
      "(3, 3, [])\n",
      "(0, 0, [])\n",
      "(3, 4, ['fluent in english'])\n",
      "(2, 2, [])\n",
      "(3, 3, [])\n",
      "(13, 14, [])\n",
      "(17, 23, ['strong leader'])\n",
      "(11, 13, ['written oral and interpersonal communication skills', 'developed solid relationships'])\n",
      "(8, 10, ['collaborating', 'active listening'])\n",
      "(7, 7, [])\n",
      "(11, 13, [])\n",
      "(7, 13, ['written and oral', 'technical orientation', 'communicator'])\n",
      "(2, 2, [])\n",
      "(4, 4, [])\n",
      "(6, 9, [])\n",
      "(6, 7, ['leadership'])\n",
      "(6, 8, ['quality driven'])\n",
      "(2, 2, [])\n",
      "(9, 12, ['strong interpersonal relations', 'written and verbal communication skills'])\n",
      "score: 82.727%\n"
     ]
    }
   ],
   "source": [
    "i = 0\n",
    "totalscore = 0\n",
    "totalLen = 0\n",
    "totalskills = []\n",
    "skillsToAdd = []\n",
    "for entity in array:\n",
    "    resume = entity[0]\n",
    "    for e in entity[1]:\n",
    "        totalskills.append(e)\n",
    "    softSkills = SE.unique_skills(SE.get_soft_skills(resume.lower()))\n",
    "    scoreTuple = score(softSkills, testData[i])\n",
    "    print(scoreTuple)\n",
    "    totalscore = totalscore + scoreTuple[0]\n",
    "    totalLen =  totalLen + scoreTuple[1]\n",
    "    #print(totalscore)\n",
    "    #print(totalLen)\n",
    "    for e in scoreTuple[2]:\n",
    "        skillsToAdd.append(e)\n",
    "    i += 1\n",
    "matched = (totalscore/totalLen)*100\n",
    "print(\"score: {:.3f}%\".format(matched))"
   ]
  },
  {
   "cell_type": "code",
   "execution_count": null,
   "id": "81585af4",
   "metadata": {},
   "outputs": [],
   "source": [
    "import pandas as pd\n",
    "df = pd.DataFrame(skillsToAdd, columns = ['soft_skill'])\n",
    "#df.to_csv('data/trainSoftSkills.csv')\n",
    "df.to_csv('data/testSoftSkills.csv')"
   ]
  },
  {
   "cell_type": "code",
   "execution_count": 71,
   "id": "646dd980",
   "metadata": {},
   "outputs": [
    {
     "name": "stdout",
     "output_type": "stream",
     "text": [
      "\n"
     ]
    },
    {
     "data": {
      "text/html": [
       "<span class=\"tex2jax_ignore\"><div class=\"entities\" style=\"line-height: 2.5; direction: ltr\"></div></span>"
      ],
      "text/plain": [
       "<IPython.core.display.HTML object>"
      ]
     },
     "metadata": {},
     "output_type": "display_data"
    }
   ],
   "source": [
    "resume = input()\n",
    "SE.display(resume)"
   ]
  },
  {
   "cell_type": "code",
   "execution_count": 173,
   "id": "588acbd8",
   "metadata": {},
   "outputs": [
    {
     "name": "stdout",
     "output_type": "stream",
     "text": [
      "['software', 'HTML5', 'version control system', 'React', 'Ember', 'Angular', 'server', 'languages', 'PHP', 'Python', 'framework', 'React', 'databases', 'CSS', 'SASS', 'CSS']\n",
      "['accurately inform']\n"
     ]
    }
   ],
   "source": [
    "skills = SE.get_skills(resume)\n",
    "print(skills)\n",
    "skills = SE.get_soft_skills(resume)\n",
    "print(skills)"
   ]
  },
  {
   "cell_type": "code",
   "execution_count": 176,
   "id": "112449a1",
   "metadata": {},
   "outputs": [],
   "source": [
    "docx = nlp(resume)"
   ]
  },
  {
   "cell_type": "code",
   "execution_count": 180,
   "id": "4552ee65",
   "metadata": {},
   "outputs": [],
   "source": [
    "colors = {\n",
    "        \"SKILL\": \"linear-gradient(90deg, #9BE15D, #00E3AE)\",\n",
    "        \"SOFT-SKILL\": \"linear-gradient(20deg, #FFAFBD, #FFC3A0)\"\n",
    "        }\n",
    "options = {\n",
    "            \"ents\": [\n",
    "                \"SKILL\",\n",
    "                \"SOFT-SKILL\"\n",
    "            ],\n",
    "            \"colors\": colors\n",
    "        }"
   ]
  },
  {
   "cell_type": "code",
   "execution_count": 181,
   "id": "23f4928f",
   "metadata": {},
   "outputs": [
    {
     "data": {
      "text/html": [
       "<span class=\"tex2jax_ignore\"><div class=\"entities\" style=\"line-height: 2.5; direction: ltr\">Full Stack Web Developer Emsi is a trusted advisor on labor market information for customers across a wide array of markets. We build SaaS products that combine many different kinds of workforce data to \n",
       "<mark class=\"entity\" style=\"background: linear-gradient(20deg, #FFAFBD, #FFC3A0); padding: 0.45em 0.6em; margin: 0 0.25em; line-height: 1; border-radius: 0.35em;\">\n",
       "    accurately inform\n",
       "    <span style=\"font-size: 0.8em; font-weight: bold; line-height: 1; border-radius: 0.35em; vertical-align: middle; margin-left: 0.5rem\">SOFT-SKILL</span>\n",
       "</mark>\n",
       " our clients’ decisions about college course offerings, hiring, site selection, economic development, and much more. We need an experienced developer to join us in producing premier \n",
       "<mark class=\"entity\" style=\"background: linear-gradient(90deg, #9BE15D, #00E3AE); padding: 0.45em 0.6em; margin: 0 0.25em; line-height: 1; border-radius: 0.35em;\">\n",
       "    software\n",
       "    <span style=\"font-size: 0.8em; font-weight: bold; line-height: 1; border-radius: 0.35em; vertical-align: middle; margin-left: 0.5rem\">SKILL</span>\n",
       "</mark>\n",
       " tools for understanding labor market data.  If you’re ready to join a high-functioning team of full stack devs working closely with product managers, data engineers, and designers to create interfaces and visualizations that make nuanced data intelligible, we’d love to hear from you. Candidates must have…      Experience with the front-end basics: \n",
       "<mark class=\"entity\" style=\"background: linear-gradient(90deg, #9BE15D, #00E3AE); padding: 0.45em 0.6em; margin: 0 0.25em; line-height: 1; border-radius: 0.35em;\">\n",
       "    HTML5\n",
       "    <span style=\"font-size: 0.8em; font-weight: bold; line-height: 1; border-radius: 0.35em; vertical-align: middle; margin-left: 0.5rem\">SKILL</span>\n",
       "</mark>\n",
       ", CSS3, and JS     Experience using a \n",
       "<mark class=\"entity\" style=\"background: linear-gradient(90deg, #9BE15D, #00E3AE); padding: 0.45em 0.6em; margin: 0 0.25em; line-height: 1; border-radius: 0.35em;\">\n",
       "    version control system\n",
       "    <span style=\"font-size: 0.8em; font-weight: bold; line-height: 1; border-radius: 0.35em; vertical-align: middle; margin-left: 0.5rem\">SKILL</span>\n",
       "</mark>\n",
       "     Familiarity with MV* frameworks, e.g. \n",
       "<mark class=\"entity\" style=\"background: linear-gradient(90deg, #9BE15D, #00E3AE); padding: 0.45em 0.6em; margin: 0 0.25em; line-height: 1; border-radius: 0.35em;\">\n",
       "    React\n",
       "    <span style=\"font-size: 0.8em; font-weight: bold; line-height: 1; border-radius: 0.35em; vertical-align: middle; margin-left: 0.5rem\">SKILL</span>\n",
       "</mark>\n",
       ", \n",
       "<mark class=\"entity\" style=\"background: linear-gradient(90deg, #9BE15D, #00E3AE); padding: 0.45em 0.6em; margin: 0 0.25em; line-height: 1; border-radius: 0.35em;\">\n",
       "    Ember\n",
       "    <span style=\"font-size: 0.8em; font-weight: bold; line-height: 1; border-radius: 0.35em; vertical-align: middle; margin-left: 0.5rem\">SKILL</span>\n",
       "</mark>\n",
       ", \n",
       "<mark class=\"entity\" style=\"background: linear-gradient(90deg, #9BE15D, #00E3AE); padding: 0.45em 0.6em; margin: 0 0.25em; line-height: 1; border-radius: 0.35em;\">\n",
       "    Angular\n",
       "    <span style=\"font-size: 0.8em; font-weight: bold; line-height: 1; border-radius: 0.35em; vertical-align: middle; margin-left: 0.5rem\">SKILL</span>\n",
       "</mark>\n",
       ", Vue     Familiarity with \n",
       "<mark class=\"entity\" style=\"background: linear-gradient(90deg, #9BE15D, #00E3AE); padding: 0.45em 0.6em; margin: 0 0.25em; line-height: 1; border-radius: 0.35em;\">\n",
       "    server\n",
       "    <span style=\"font-size: 0.8em; font-weight: bold; line-height: 1; border-radius: 0.35em; vertical-align: middle; margin-left: 0.5rem\">SKILL</span>\n",
       "</mark>\n",
       "-side \n",
       "<mark class=\"entity\" style=\"background: linear-gradient(90deg, #9BE15D, #00E3AE); padding: 0.45em 0.6em; margin: 0 0.25em; line-height: 1; border-radius: 0.35em;\">\n",
       "    languages\n",
       "    <span style=\"font-size: 0.8em; font-weight: bold; line-height: 1; border-radius: 0.35em; vertical-align: middle; margin-left: 0.5rem\">SKILL</span>\n",
       "</mark>\n",
       " like \n",
       "<mark class=\"entity\" style=\"background: linear-gradient(90deg, #9BE15D, #00E3AE); padding: 0.45em 0.6em; margin: 0 0.25em; line-height: 1; border-radius: 0.35em;\">\n",
       "    PHP\n",
       "    <span style=\"font-size: 0.8em; font-weight: bold; line-height: 1; border-radius: 0.35em; vertical-align: middle; margin-left: 0.5rem\">SKILL</span>\n",
       "</mark>\n",
       ", \n",
       "<mark class=\"entity\" style=\"background: linear-gradient(90deg, #9BE15D, #00E3AE); padding: 0.45em 0.6em; margin: 0 0.25em; line-height: 1; border-radius: 0.35em;\">\n",
       "    Python\n",
       "    <span style=\"font-size: 0.8em; font-weight: bold; line-height: 1; border-radius: 0.35em; vertical-align: middle; margin-left: 0.5rem\">SKILL</span>\n",
       "</mark>\n",
       ", or Node  Great candidates also have…      Experience with a particular JS MV* \n",
       "<mark class=\"entity\" style=\"background: linear-gradient(90deg, #9BE15D, #00E3AE); padding: 0.45em 0.6em; margin: 0 0.25em; line-height: 1; border-radius: 0.35em;\">\n",
       "    framework\n",
       "    <span style=\"font-size: 0.8em; font-weight: bold; line-height: 1; border-radius: 0.35em; vertical-align: middle; margin-left: 0.5rem\">SKILL</span>\n",
       "</mark>\n",
       " (we happen to use \n",
       "<mark class=\"entity\" style=\"background: linear-gradient(90deg, #9BE15D, #00E3AE); padding: 0.45em 0.6em; margin: 0 0.25em; line-height: 1; border-radius: 0.35em;\">\n",
       "    React\n",
       "    <span style=\"font-size: 0.8em; font-weight: bold; line-height: 1; border-radius: 0.35em; vertical-align: middle; margin-left: 0.5rem\">SKILL</span>\n",
       "</mark>\n",
       ")     Experience working with \n",
       "<mark class=\"entity\" style=\"background: linear-gradient(90deg, #9BE15D, #00E3AE); padding: 0.45em 0.6em; margin: 0 0.25em; line-height: 1; border-radius: 0.35em;\">\n",
       "    databases\n",
       "    <span style=\"font-size: 0.8em; font-weight: bold; line-height: 1; border-radius: 0.35em; vertical-align: middle; margin-left: 0.5rem\">SKILL</span>\n",
       "</mark>\n",
       "     Experience with AWS     Familiarity with microservice architecture     Familiarity with modern \n",
       "<mark class=\"entity\" style=\"background: linear-gradient(90deg, #9BE15D, #00E3AE); padding: 0.45em 0.6em; margin: 0 0.25em; line-height: 1; border-radius: 0.35em;\">\n",
       "    CSS\n",
       "    <span style=\"font-size: 0.8em; font-weight: bold; line-height: 1; border-radius: 0.35em; vertical-align: middle; margin-left: 0.5rem\">SKILL</span>\n",
       "</mark>\n",
       " practices, e.g. LESS, \n",
       "<mark class=\"entity\" style=\"background: linear-gradient(90deg, #9BE15D, #00E3AE); padding: 0.45em 0.6em; margin: 0 0.25em; line-height: 1; border-radius: 0.35em;\">\n",
       "    SASS\n",
       "    <span style=\"font-size: 0.8em; font-weight: bold; line-height: 1; border-radius: 0.35em; vertical-align: middle; margin-left: 0.5rem\">SKILL</span>\n",
       "</mark>\n",
       ", \n",
       "<mark class=\"entity\" style=\"background: linear-gradient(90deg, #9BE15D, #00E3AE); padding: 0.45em 0.6em; margin: 0 0.25em; line-height: 1; border-radius: 0.35em;\">\n",
       "    CSS\n",
       "    <span style=\"font-size: 0.8em; font-weight: bold; line-height: 1; border-radius: 0.35em; vertical-align: middle; margin-left: 0.5rem\">SKILL</span>\n",
       "</mark>\n",
       "-in-JS  People who succeed in this position are…      Team oriented and ready to work closely with other developers     Determined to produce clean, well-tested code     Comfortable with working in rapid development cycles     Skilled oral and written communicators     Enthusiastic for learning and pushing the envelope  Emsi is an equal opportunity employer.</div></span>"
      ],
      "text/plain": [
       "<IPython.core.display.HTML object>"
      ]
     },
     "metadata": {},
     "output_type": "display_data"
    }
   ],
   "source": [
    "html = displacy.render(docx, style='ent', options=options)\n",
    "html"
   ]
  }
 ],
 "metadata": {
  "kernelspec": {
   "display_name": "Python 3 (ipykernel)",
   "language": "python",
   "name": "python3"
  },
  "language_info": {
   "codemirror_mode": {
    "name": "ipython",
    "version": 3
   },
   "file_extension": ".py",
   "mimetype": "text/x-python",
   "name": "python",
   "nbconvert_exporter": "python",
   "pygments_lexer": "ipython3",
   "version": "3.9.7"
  }
 },
 "nbformat": 4,
 "nbformat_minor": 5
}
